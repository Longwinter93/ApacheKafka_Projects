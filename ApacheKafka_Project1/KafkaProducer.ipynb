{
 "cells": [
  {
   "cell_type": "code",
   "execution_count": 1,
   "metadata": {},
   "outputs": [],
   "source": [
    "import time\n",
    "from json import dumps\n",
    "from kafka import KafkaProducer \n",
    "import pandas as pd\n",
    "\n"
   ]
  },
  {
   "cell_type": "code",
   "execution_count": 2,
   "metadata": {},
   "outputs": [],
   "source": [
    "def CreateFirstKafkaProducer():\n",
    "    localhost = 'localhost:9092'\n",
    "    return KafkaProducer(bootstrap_servers=[localhost], value_serializer=lambda x: dumps(x).encode('utf-8'))\n"
   ]
  },
  {
   "cell_type": "code",
   "execution_count": 3,
   "metadata": {},
   "outputs": [
    {
     "name": "stdout",
     "output_type": "stream",
     "text": [
      "{'number': 0}\n",
      "{'number': 1}\n",
      "{'number': 2}\n",
      "{'number': 3}\n",
      "{'number': 4}\n",
      "{'number': 5}\n",
      "{'number': 6}\n",
      "{'number': 7}\n",
      "{'number': 8}\n",
      "{'number': 9}\n"
     ]
    }
   ],
   "source": [
    "def Streaming():\n",
    "    producer = CreateFirstKafkaProducer()\n",
    "    topic_name = 'hello_world4'\n",
    "    for e in range (10):\n",
    "        data = {'number': e}\n",
    "        print(data)\n",
    "        producer.send(topic_name, value=data)\n",
    "        time.sleep(1)\n",
    "\n",
    "\n",
    "Streaming()"
   ]
  },
  {
   "cell_type": "markdown",
   "metadata": {},
   "source": [
    "## Using real data"
   ]
  },
  {
   "cell_type": "code",
   "execution_count": 4,
   "metadata": {},
   "outputs": [
    {
     "data": {
      "text/html": [
       "<div>\n",
       "<style scoped>\n",
       "    .dataframe tbody tr th:only-of-type {\n",
       "        vertical-align: middle;\n",
       "    }\n",
       "\n",
       "    .dataframe tbody tr th {\n",
       "        vertical-align: top;\n",
       "    }\n",
       "\n",
       "    .dataframe thead th {\n",
       "        text-align: right;\n",
       "    }\n",
       "</style>\n",
       "<table border=\"1\" class=\"dataframe\">\n",
       "  <thead>\n",
       "    <tr style=\"text-align: right;\">\n",
       "      <th></th>\n",
       "      <th>weightclass</th>\n",
       "      <th>R_fighter</th>\n",
       "      <th>B_fighter</th>\n",
       "      <th>date</th>\n",
       "      <th>location</th>\n",
       "      <th>country</th>\n",
       "      <th>title_bout</th>\n",
       "    </tr>\n",
       "  </thead>\n",
       "  <tbody>\n",
       "    <tr>\n",
       "      <th>0</th>\n",
       "      <td>Flyweight</td>\n",
       "      <td>Demetrious Johnson</td>\n",
       "      <td>Henry Cejudo</td>\n",
       "      <td>8/4/2018</td>\n",
       "      <td>Los Angeles, California, USA</td>\n",
       "      <td>USA</td>\n",
       "      <td>True</td>\n",
       "    </tr>\n",
       "    <tr>\n",
       "      <th>1</th>\n",
       "      <td>Flyweight</td>\n",
       "      <td>Demetrious Johnson</td>\n",
       "      <td>Ray Borg</td>\n",
       "      <td>10/7/2017</td>\n",
       "      <td>Las Vegas, Nevada, USA</td>\n",
       "      <td>USA</td>\n",
       "      <td>True</td>\n",
       "    </tr>\n",
       "    <tr>\n",
       "      <th>2</th>\n",
       "      <td>Flyweight</td>\n",
       "      <td>Demetrious Johnson</td>\n",
       "      <td>Wilson Reis</td>\n",
       "      <td>4/15/2017</td>\n",
       "      <td>Kansas City, Missouri, USA</td>\n",
       "      <td>USA</td>\n",
       "      <td>True</td>\n",
       "    </tr>\n",
       "    <tr>\n",
       "      <th>3</th>\n",
       "      <td>Flyweight</td>\n",
       "      <td>Demetrious Johnson</td>\n",
       "      <td>Tim Elliott</td>\n",
       "      <td>12/3/2016</td>\n",
       "      <td>Las Vegas, Nevada, USA</td>\n",
       "      <td>USA</td>\n",
       "      <td>True</td>\n",
       "    </tr>\n",
       "    <tr>\n",
       "      <th>4</th>\n",
       "      <td>Flyweight</td>\n",
       "      <td>Demetrious Johnson</td>\n",
       "      <td>Henry Cejudo</td>\n",
       "      <td>4/23/2016</td>\n",
       "      <td>Las Vegas, Nevada, USA</td>\n",
       "      <td>USA</td>\n",
       "      <td>True</td>\n",
       "    </tr>\n",
       "    <tr>\n",
       "      <th>...</th>\n",
       "      <td>...</td>\n",
       "      <td>...</td>\n",
       "      <td>...</td>\n",
       "      <td>...</td>\n",
       "      <td>...</td>\n",
       "      <td>...</td>\n",
       "      <td>...</td>\n",
       "    </tr>\n",
       "    <tr>\n",
       "      <th>766</th>\n",
       "      <td>Light Heavyweight</td>\n",
       "      <td>Alexander Gustafsson</td>\n",
       "      <td>Glover Teixeira</td>\n",
       "      <td>5/28/2017</td>\n",
       "      <td>Stockholm, Sweden</td>\n",
       "      <td>Sweden</td>\n",
       "      <td>False</td>\n",
       "    </tr>\n",
       "    <tr>\n",
       "      <th>767</th>\n",
       "      <td>Light Heavyweight</td>\n",
       "      <td>Anthony Johnson</td>\n",
       "      <td>Glover Teixeira</td>\n",
       "      <td>8/20/2016</td>\n",
       "      <td>Las Vegas, Nevada, USA</td>\n",
       "      <td>USA</td>\n",
       "      <td>False</td>\n",
       "    </tr>\n",
       "    <tr>\n",
       "      <th>768</th>\n",
       "      <td>Light Heavyweight</td>\n",
       "      <td>Jon Jones</td>\n",
       "      <td>Glover Teixeira</td>\n",
       "      <td>4/26/2014</td>\n",
       "      <td>Baltimore, Maryland, USA</td>\n",
       "      <td>USA</td>\n",
       "      <td>True</td>\n",
       "    </tr>\n",
       "    <tr>\n",
       "      <th>769</th>\n",
       "      <td>Light Heavyweight</td>\n",
       "      <td>Rampage Jackson</td>\n",
       "      <td>Glover Teixeira</td>\n",
       "      <td>1/26/2013</td>\n",
       "      <td>Chicago, Illinois, USA</td>\n",
       "      <td>USA</td>\n",
       "      <td>False</td>\n",
       "    </tr>\n",
       "    <tr>\n",
       "      <th>770</th>\n",
       "      <td>Light Heavyweight</td>\n",
       "      <td>Kyle Kingsbury</td>\n",
       "      <td>Glover Teixeira</td>\n",
       "      <td>5/26/2012</td>\n",
       "      <td>Las Vegas, Nevada, USA</td>\n",
       "      <td>USA</td>\n",
       "      <td>False</td>\n",
       "    </tr>\n",
       "  </tbody>\n",
       "</table>\n",
       "<p>771 rows × 7 columns</p>\n",
       "</div>"
      ],
      "text/plain": [
       "           weightclass             R_fighter        B_fighter       date  \\\n",
       "0            Flyweight    Demetrious Johnson     Henry Cejudo   8/4/2018   \n",
       "1            Flyweight    Demetrious Johnson         Ray Borg  10/7/2017   \n",
       "2            Flyweight    Demetrious Johnson      Wilson Reis  4/15/2017   \n",
       "3            Flyweight    Demetrious Johnson      Tim Elliott  12/3/2016   \n",
       "4            Flyweight    Demetrious Johnson     Henry Cejudo  4/23/2016   \n",
       "..                 ...                   ...              ...        ...   \n",
       "766  Light Heavyweight  Alexander Gustafsson  Glover Teixeira  5/28/2017   \n",
       "767  Light Heavyweight       Anthony Johnson  Glover Teixeira  8/20/2016   \n",
       "768  Light Heavyweight             Jon Jones  Glover Teixeira  4/26/2014   \n",
       "769  Light Heavyweight       Rampage Jackson  Glover Teixeira  1/26/2013   \n",
       "770  Light Heavyweight        Kyle Kingsbury  Glover Teixeira  5/26/2012   \n",
       "\n",
       "                         location  country  title_bout  \n",
       "0    Los Angeles, California, USA      USA        True  \n",
       "1          Las Vegas, Nevada, USA      USA        True  \n",
       "2      Kansas City, Missouri, USA      USA        True  \n",
       "3          Las Vegas, Nevada, USA      USA        True  \n",
       "4          Las Vegas, Nevada, USA      USA        True  \n",
       "..                            ...      ...         ...  \n",
       "766             Stockholm, Sweden   Sweden       False  \n",
       "767        Las Vegas, Nevada, USA      USA       False  \n",
       "768      Baltimore, Maryland, USA      USA        True  \n",
       "769        Chicago, Illinois, USA      USA       False  \n",
       "770        Las Vegas, Nevada, USA      USA       False  \n",
       "\n",
       "[771 rows x 7 columns]"
      ]
     },
     "execution_count": 4,
     "metadata": {},
     "output_type": "execute_result"
    }
   ],
   "source": [
    "def create_df():\n",
    "    Path = r'C:\\My commercial projects\\Data Engineering Projects\\Apache Kafka\\ufc_champs_final_ApacheKafka.csv'\n",
    "    df = pd.read_csv(Path)\n",
    "    df = df[['weightclass','R_fighter','B_fighter','date','location','country','title_bout']]\n",
    "\n",
    "    \n",
    "    return df \n",
    "\n",
    "df = create_df()\n",
    "df \n"
   ]
  },
  {
   "cell_type": "markdown",
   "metadata": {},
   "source": [
    "## Converting this DataFrame to a JSON format"
   ]
  },
  {
   "cell_type": "code",
   "execution_count": 5,
   "metadata": {},
   "outputs": [
    {
     "data": {
      "text/plain": [
       "{'weightclass': 'Middleweight',\n",
       " 'R_fighter': 'Chris Weidman',\n",
       " 'B_fighter': 'Luke Rockhold',\n",
       " 'date': '12/12/2015',\n",
       " 'location': 'Las Vegas, Nevada, USA',\n",
       " 'country': ' USA',\n",
       " 'title_bout': True}"
      ]
     },
     "execution_count": 5,
     "metadata": {},
     "output_type": "execute_result"
    }
   ],
   "source": [
    "def createJSONformat():\n",
    "    return df.sample(1).to_dict(orient='records')[0] \n",
    "\n",
    "JSONFormat = createJSONformat()\n",
    "JSONFormat"
   ]
  },
  {
   "cell_type": "markdown",
   "metadata": {},
   "source": [
    "## Creating the Kafka Producer Object\n",
    "### Configuring a kafka client that published records to the Kafka Cluster"
   ]
  },
  {
   "cell_type": "code",
   "execution_count": 6,
   "metadata": {},
   "outputs": [],
   "source": [
    "def create_kafka_producer():\n",
    "    \n",
    "    localhost = 'localhost:9092'\n",
    "\n",
    "    return KafkaProducer(bootstrap_servers=[localhost], value_serializer=lambda x: dumps(x).encode('utf-8'))\n"
   ]
  },
  {
   "cell_type": "markdown",
   "metadata": {},
   "source": [
    "## Publishing messages to a topic\n"
   ]
  },
  {
   "cell_type": "code",
   "execution_count": 7,
   "metadata": {},
   "outputs": [],
   "source": [
    "def PublishingMessage():\n",
    "    producer = create_kafka_producer()\n",
    "    topic_name = 'hello_world4'\n",
    "         \n",
    "    end_time = time.time() + 10\n",
    "    while True:\n",
    "        if time.time () > end_time:\n",
    "            break \n",
    "        ufc = createJSONformat()\n",
    "        producer.send(topic_name, value=ufc)          \n",
    "        \n",
    "    \n",
    "\n",
    "PublishingMessage()   \n"
   ]
  },
  {
   "cell_type": "markdown",
   "metadata": {},
   "source": [
    "## Shutting down the producer to ensure all messages are delivered"
   ]
  },
  {
   "cell_type": "code",
   "execution_count": 8,
   "metadata": {},
   "outputs": [],
   "source": [
    "def ProducerFlush():\n",
    "    producer = create_kafka_producer()\n",
    "    return producer.flush()\n",
    "\n",
    "ProducerFlush()\n",
    "\n"
   ]
  }
 ],
 "metadata": {
  "kernelspec": {
   "display_name": "Python 3 (ipykernel)",
   "language": "python",
   "name": "python3"
  },
  "language_info": {
   "codemirror_mode": {
    "name": "ipython",
    "version": 3
   },
   "file_extension": ".py",
   "mimetype": "text/x-python",
   "name": "python",
   "nbconvert_exporter": "python",
   "pygments_lexer": "ipython3",
   "version": "3.11.5"
  }
 },
 "nbformat": 4,
 "nbformat_minor": 2
}
